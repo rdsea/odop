{
 "cells": [
  {
   "cell_type": "code",
   "execution_count": 1,
   "metadata": {},
   "outputs": [
    {
     "name": "stdout",
     "output_type": "stream",
     "text": [
      "\u001b[2mUsing Python 3.10.14 environment at /u/49/anhdun1/unix/git/research/odop/.venv\u001b[0m\n",
      "\u001b[2K\u001b[2mResolved \u001b[1m9 packages\u001b[0m \u001b[2min 119ms\u001b[0m\u001b[0m                                         \u001b[0m\n",
      "\u001b[2K\u001b[2mPrepared \u001b[1m2 packages\u001b[0m \u001b[2min 238ms\u001b[0m\u001b[0m                                             \n",
      "\u001b[2K\u001b[2mInstalled \u001b[1m4 packages\u001b[0m \u001b[2min 51ms\u001b[0m\u001b[0m                                \u001b[0m\n",
      " \u001b[32m+\u001b[39m \u001b[1mpandas\u001b[0m\u001b[2m==2.2.3\u001b[0m\n",
      " \u001b[32m+\u001b[39m \u001b[1mpytz\u001b[0m\u001b[2m==2025.2\u001b[0m\n",
      " \u001b[32m+\u001b[39m \u001b[1mtqdm\u001b[0m\u001b[2m==4.67.1\u001b[0m\n",
      " \u001b[32m+\u001b[39m \u001b[1mtzdata\u001b[0m\u001b[2m==2025.2\u001b[0m\n"
     ]
    }
   ],
   "source": [
    "!uv pip install numpy pandas tinyflux flatten_dict tqdm"
   ]
  },
  {
   "cell_type": "code",
   "execution_count": 15,
   "metadata": {
    "vscode": {
     "languageId": "plaintext"
    }
   },
   "outputs": [],
   "source": [
    "import numpy as np \n",
    "import pandas as pd \n",
    "import os\n",
    "from tqdm import tqdm\n"
   ]
  },
  {
   "cell_type": "code",
   "execution_count": 19,
   "metadata": {},
   "outputs": [],
   "source": [
    "import numpy as np\n",
    "from flatten_dict import unflatten\n",
    "from tinyflux import TinyFlux\n",
    "\n",
    "\n",
    "def revert_unit(unit_conversion, converted_report: dict):\n",
    "    original_report = converted_report.copy()\n",
    "    for key, value in converted_report.items():\n",
    "        if \"unit\" in key:\n",
    "            if \"frequency\" in key:\n",
    "                for original_unit, converted_unit in unit_conversion[\n",
    "                    \"frequency\"\n",
    "                ].items():\n",
    "                    if converted_unit == value:\n",
    "                        original_report[key] = original_unit\n",
    "                        break\n",
    "            elif \"mem\" in key:\n",
    "                for original_unit, converted_unit in unit_conversion[\"mem\"].items():\n",
    "                    if converted_unit == value:\n",
    "                        original_report[key] = original_unit\n",
    "                        break\n",
    "            elif \"cpu\" in key:\n",
    "                if \"usage\" in key:\n",
    "                    for original_unit, converted_unit in unit_conversion[\"cpu\"][\n",
    "                        \"usage\"\n",
    "                    ].items():\n",
    "                        if converted_unit == value:\n",
    "                            original_report[key] = original_unit\n",
    "                            break\n",
    "            elif \"gpu\" in key:\n",
    "                if \"usage\" in key:\n",
    "                    for original_unit, converted_unit in unit_conversion[\"gpu\"][\n",
    "                        \"usage\"\n",
    "                    ].items():\n",
    "                        if converted_unit == value:\n",
    "                            original_report[key] = original_unit\n",
    "                            break\n",
    "    return original_report\n",
    "\n",
    "\n",
    "def extract_data(data):\n",
    "    unit_conversion = {\n",
    "        \"cpu\": {\"usage\": {\"milicpu\": 1, \"cputime\": 2, \"percentage\": 3}},\n",
    "        \"gpu\": {\"usage\": {\"percentage\": 1}},\n",
    "        \"mem\": {\"Gb\": 1, \"Mb\": 2, \"Kb\": 3},\n",
    "        \"frequency\": {\"GHz\": 1, \"MHz\": 2},\n",
    "    }\n",
    "    converted_process_data = {}\n",
    "    converted_system_data = []\n",
    "    for datapoint in data:\n",
    "        if datapoint.tags[\"type\"] == \"process\":\n",
    "            converted_datapoint = {\n",
    "                **datapoint.tags,\n",
    "                **datapoint.fields,\n",
    "                \"timestamp\": datetime.timestamp(datapoint.time),\n",
    "            }\n",
    "            converted_datapoint = unflatten(\n",
    "                revert_unit(unit_conversion, converted_datapoint), \"dot\"\n",
    "            )\n",
    "            pid = converted_datapoint[\"metadata\"][\"pid\"]\n",
    "            if pid in converted_process_data:\n",
    "                converted_process_data[pid].append(converted_datapoint)\n",
    "            else:\n",
    "                converted_process_data[pid] = [converted_datapoint]\n",
    "        else:\n",
    "            converted_datapoint = {\n",
    "                **datapoint.tags,\n",
    "                **datapoint.fields,\n",
    "                \"timestamp\": datetime.timestamp(datapoint.time),\n",
    "            }\n",
    "            converted_datapoint = unflatten(\n",
    "                revert_unit(unit_conversion, converted_datapoint), \"dot\"\n",
    "            )\n",
    "            converted_system_data.append(converted_datapoint)\n",
    "\n",
    "    return converted_process_data, converted_system_data\n",
    "\n",
    "\n",
    "def extract_data_from_file_path(file_path: str):\n",
    "    db = TinyFlux(file_path)\n",
    "    data = db.all()\n",
    "    return extract_data(data)"
   ]
  },
  {
   "cell_type": "code",
   "execution_count": 6,
   "metadata": {},
   "outputs": [],
   "source": [
    "file_path = \"runs_32/run_1-task_data-movement_round-robin/metric_database/nid007960.csv\"\n",
    "#try:\n",
    "# process_data, system_data = extract_data_from_file_path(file_path)\n",
    "# time_taken += len(system_data)\n",
    "# for entity in system_data:\n",
    "#     cpu_usage = entity[\"cpu\"][\"usage\"][\"value\"]\n",
    "#     filtered_usage = [\n",
    "#         usage for core, usage in cpu_usage.items() if int(core.split(\"_\")[1]) < 64\n",
    "#     ]\n",
    "#     total_usage += sum(filtered_usage)\n",
    "#     total_cores += len(filtered_usage)\n",
    "#xcept Exception as e:\n",
    "#   print(e)\n",
    "#   print(entity)"
   ]
  },
  {
   "cell_type": "code",
   "execution_count": 28,
   "metadata": {},
   "outputs": [
    {
     "data": {
      "text/plain": [
       "694"
      ]
     },
     "execution_count": 28,
     "metadata": {},
     "output_type": "execute_result"
    }
   ],
   "source": [
    "len(system_data)"
   ]
  },
  {
   "cell_type": "code",
   "execution_count": 26,
   "metadata": {},
   "outputs": [
    {
     "name": "stderr",
     "output_type": "stream",
     "text": [
      "100%|█████████████████████████████████████████████████████████████████████| 15/15 [00:13<00:00,  1.09it/s]"
     ]
    },
    {
     "name": "stdout",
     "output_type": "stream",
     "text": [
      "   Numb node               Optasks    Algorithm  Average CPU Usage (%)  \\\n",
      "0          4                                                 17.785998   \n",
      "1          4  reduce-data-movement     priority              18.695302   \n",
      "2          4  reduce-data-movement         fifo              18.051298   \n",
      "3          4  reduce-data-movement     best-fit              18.372785   \n",
      "4          4                reduce  round-robin              18.448070   \n",
      "5          4                reduce     priority              17.426560   \n",
      "6          4                reduce         fifo              17.893591   \n",
      "7          4                reduce     best-fit              17.996417   \n",
      "8          4                pc-cpu  round-robin              30.091290   \n",
      "9          4                pc-cpu     priority              30.500693   \n",
      "10         4                pc-cpu         fifo              29.817168   \n",
      "11         4                pc-cpu     best-fit              30.398761   \n",
      "12         4         data-movement  round-robin              18.085309   \n",
      "13         4         data-movement     priority              17.967189   \n",
      "14         4         data-movement         fifo              18.304236   \n",
      "\n",
      "    Time taken (s)  \n",
      "0           666.75  \n",
      "1           709.00  \n",
      "2           769.75  \n",
      "3           707.50  \n",
      "4           671.25  \n",
      "5           671.00  \n",
      "6           667.00  \n",
      "7           671.00  \n",
      "8           683.00  \n",
      "9           671.00  \n",
      "10          673.00  \n",
      "11          675.25  \n",
      "12          708.75  \n",
      "13          699.25  \n",
      "14          694.25  \n"
     ]
    },
    {
     "name": "stderr",
     "output_type": "stream",
     "text": [
      "\n"
     ]
    }
   ],
   "source": [
    "from concurrent.futures import ProcessPoolExecutor\n",
    "node_config_list = [\"4\"]\n",
    "results = []\n",
    "\n",
    "def process_file(file_path):\n",
    "    \"\"\"Extract data from a CSV file and compute usage statistics.\"\"\"\n",
    "    try:\n",
    "        process_data, system_data = extract_data_from_file_path(file_path)\n",
    "        total_usage = sum(\n",
    "            sum(usage for core, usage in entity[\"cpu\"][\"usage\"][\"value\"].items() if int(core.split(\"_\")[1]) < 64)\n",
    "            for entity in system_data\n",
    "        )\n",
    "        total_cores = sum(\n",
    "            sum(1 for core in entity[\"cpu\"][\"usage\"][\"value\"] if int(core.split(\"_\")[1]) < 64)\n",
    "            for entity in system_data\n",
    "        )\n",
    "        time_taken = len(system_data)\n",
    "        return total_usage, total_cores, time_taken\n",
    "    except Exception as e:\n",
    "        print(f\"Error processing {file_path}: {e}\")\n",
    "        return 0, 0, 0\n",
    "\n",
    "for numb_node in node_config_list:\n",
    "    base_folder = f\"runs_{numb_node}\"\n",
    "    for folder in tqdm(sorted(os.listdir(base_folder), reverse=True)):\n",
    "        sub_folder = os.path.join(base_folder, folder, \"metric_database\")\n",
    "        if not os.path.exists(sub_folder):\n",
    "            continue\n",
    "        \n",
    "        total_usage = 0\n",
    "        total_cores = 0\n",
    "        time_taken = 0\n",
    "        folder_split = folder.split(\"_\")\n",
    "\n",
    "        csv_files = [os.path.join(sub_folder, file) for file in os.listdir(sub_folder) if file.endswith(\".csv\")]\n",
    "\n",
    "        with ProcessPoolExecutor() as executor:\n",
    "            results_list = executor.map(process_file, csv_files)\n",
    "\n",
    "        for usage, cores, time in results_list:\n",
    "            total_usage += usage\n",
    "            total_cores += cores\n",
    "            time_taken += time\n",
    "\n",
    "        overall_average_usage = total_usage / total_cores if total_cores > 0 else 0\n",
    "        results.append([\n",
    "            numb_node,\n",
    "            folder_split[2],\n",
    "            folder_split[3],\n",
    "            overall_average_usage,\n",
    "            time_taken / int(numb_node),\n",
    "        ])\n",
    "\n",
    "df = pd.DataFrame(\n",
    "    results,\n",
    "    columns=[\n",
    "        \"Numb node\",\n",
    "        \"Optasks\",\n",
    "        \"Algorithm\",\n",
    "        \"Average CPU Usage (%)\",\n",
    "        \"Time taken (s)\",\n",
    "    ],\n",
    ")\n",
    "\n",
    "print(df)"
   ]
  },
  {
   "cell_type": "code",
   "execution_count": 29,
   "metadata": {},
   "outputs": [
    {
     "name": "stderr",
     "output_type": "stream",
     "text": [
      "100%|█████████████████████████████████████████████████████████████████████| 13/13 [01:38<00:00,  7.55s/it]"
     ]
    },
    {
     "name": "stdout",
     "output_type": "stream",
     "text": [
      "   Numb node        Optasks    Algorithm  Average CPU Usage (%)  \\\n",
      "0         32                                          17.439153   \n",
      "1         32         reduce  round-robin              17.519794   \n",
      "2         32         reduce     priority              17.211960   \n",
      "3         32         reduce         fifo              17.035072   \n",
      "4         32         reduce     best-fit              17.450913   \n",
      "5         32         pc-cpu  round-robin              29.991062   \n",
      "6         32         pc-cpu     priority              29.856786   \n",
      "7         32         pc-cpu         fifo              29.908088   \n",
      "8         32         pc-cpu     best-fit              29.904649   \n",
      "9         32  data-movement  round-robin              16.718184   \n",
      "10        32  data-movement     priority              17.440737   \n",
      "11        32  data-movement         fifo              16.556026   \n",
      "12        32  data-movement     best-fit              16.472471   \n",
      "\n",
      "    Time taken (s)  \n",
      "0        700.15625  \n",
      "1        719.46875  \n",
      "2        728.93750  \n",
      "3        722.96875  \n",
      "4        707.03125  \n",
      "5        710.90625  \n",
      "6        711.06250  \n",
      "7        701.00000  \n",
      "8        696.93750  \n",
      "9        948.87500  \n",
      "10       777.00000  \n",
      "11      1007.00000  \n",
      "12      1004.93750  \n"
     ]
    },
    {
     "name": "stderr",
     "output_type": "stream",
     "text": [
      "\n"
     ]
    }
   ],
   "source": [
    "node_config_list = [\"32\"]\n",
    "results = []\n",
    "\n",
    "def process_file(file_path):\n",
    "    \"\"\"Extract data from a CSV file and compute usage statistics.\"\"\"\n",
    "    try:\n",
    "        process_data, system_data = extract_data_from_file_path(file_path)\n",
    "        total_usage = sum(\n",
    "            sum(usage for core, usage in entity[\"cpu\"][\"usage\"][\"value\"].items() if int(core.split(\"_\")[1]) < 64)\n",
    "            for entity in system_data\n",
    "        )\n",
    "        total_cores = sum(\n",
    "            sum(1 for core in entity[\"cpu\"][\"usage\"][\"value\"] if int(core.split(\"_\")[1]) < 64)\n",
    "            for entity in system_data\n",
    "        )\n",
    "        time_taken = len(system_data)\n",
    "        return total_usage, total_cores, time_taken\n",
    "    except Exception as e:\n",
    "        print(f\"Error processing {file_path}: {e}\")\n",
    "        return 0, 0, 0\n",
    "\n",
    "for numb_node in node_config_list:\n",
    "    base_folder = f\"runs_{numb_node}\"\n",
    "    for folder in tqdm(sorted(os.listdir(base_folder), reverse=True)):\n",
    "        sub_folder = os.path.join(base_folder, folder, \"metric_database\")\n",
    "        if not os.path.exists(sub_folder):\n",
    "            continue\n",
    "        \n",
    "        total_usage = 0\n",
    "        total_cores = 0\n",
    "        time_taken = 0\n",
    "        folder_split = folder.split(\"_\")\n",
    "\n",
    "        csv_files = [os.path.join(sub_folder, file) for file in os.listdir(sub_folder) if file.endswith(\".csv\")]\n",
    "\n",
    "        with ProcessPoolExecutor() as executor:\n",
    "            results_list = executor.map(process_file, csv_files)\n",
    "\n",
    "        for usage, cores, time in results_list:\n",
    "            total_usage += usage\n",
    "            total_cores += cores\n",
    "            time_taken += time\n",
    "\n",
    "        overall_average_usage = total_usage / total_cores if total_cores > 0 else 0\n",
    "        results.append([\n",
    "            numb_node,\n",
    "            folder_split[2],\n",
    "            folder_split[3],\n",
    "            overall_average_usage,\n",
    "            time_taken / int(numb_node),\n",
    "        ])\n",
    "\n",
    "df = pd.DataFrame(\n",
    "    results,\n",
    "    columns=[\n",
    "        \"Numb node\",\n",
    "        \"Optasks\",\n",
    "        \"Algorithm\",\n",
    "        \"Average CPU Usage (%)\",\n",
    "        \"Time taken (s)\",\n",
    "    ],\n",
    ")\n",
    "\n",
    "print(df)"
   ]
  },
  {
   "cell_type": "code",
   "execution_count": 45,
   "metadata": {},
   "outputs": [
    {
     "name": "stdout",
     "output_type": "stream",
     "text": [
      "\\begin{tabular}{lllr}\n",
      "\\toprule\n",
      "Numb node & Optasks & Algorithm & Average CPU Usage (%) \\\\\n",
      "\\midrule\n",
      "4 &  &  & 17.79 \\\\\n",
      "4 & reduce & round-robin & 18.45 \\\\\n",
      "4 & reduce & priority & 17.43 \\\\\n",
      "4 & reduce & fifo & 17.89 \\\\\n",
      "4 & reduce & best-fit & 18.00 \\\\\n",
      "4 & pc-cpu & round-robin & 30.09 \\\\\n",
      "4 & pc-cpu & priority & 30.50 \\\\\n",
      "4 & pc-cpu & fifo & 29.82 \\\\\n",
      "4 & pc-cpu & best-fit & 30.40 \\\\\n",
      "\\bottomrule\n",
      "\\end{tabular}\n",
      "\n"
     ]
    }
   ],
   "source": [
    "latex_table = df.to_latex(index=False, float_format=\"%.2f\")\n",
    "with open(\"cpu_usage_table.tex\", \"w\") as f:\n",
    "    f.write(latex_table)\n",
    "\n",
    "# Print LaTeX table\n",
    "print(latex_table)"
   ]
  }
 ],
 "metadata": {
  "kernelspec": {
   "display_name": "Python 3 (ipykernel)",
   "language": "python",
   "name": "python3"
  },
  "language_info": {
   "codemirror_mode": {
    "name": "ipython",
    "version": 3
   },
   "file_extension": ".py",
   "mimetype": "text/x-python",
   "name": "python",
   "nbconvert_exporter": "python",
   "pygments_lexer": "ipython3",
   "version": "3.10.14"
  }
 },
 "nbformat": 4,
 "nbformat_minor": 4
}
