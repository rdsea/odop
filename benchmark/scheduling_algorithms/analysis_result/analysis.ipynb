{
 "cells": [
  {
   "cell_type": "code",
   "execution_count": 1,
   "metadata": {},
   "outputs": [
    {
     "name": "stdout",
     "output_type": "stream",
     "text": [
      "\u001b[2mAudited \u001b[1m5 packages\u001b[0m \u001b[2min 3ms\u001b[0m\u001b[0m\n"
     ]
    }
   ],
   "source": [
    "!uv pip install numpy pandas tinyflux flatten_dict tqdm"
   ]
  },
  {
   "cell_type": "code",
   "execution_count": 2,
   "metadata": {
    "vscode": {
     "languageId": "plaintext"
    }
   },
   "outputs": [],
   "source": [
    "import numpy as np \n",
    "import pandas as pd \n",
    "import os\n",
    "from tqdm import tqdm\n"
   ]
  },
  {
   "cell_type": "code",
   "execution_count": 5,
   "metadata": {},
   "outputs": [],
   "source": [
    "from datetime import datetime\n",
    "\n",
    "import numpy as np\n",
    "from flatten_dict import unflatten\n",
    "from tinyflux import TinyFlux\n",
    "\n",
    "\n",
    "def revert_unit(unit_conversion, converted_report: dict):\n",
    "    original_report = converted_report.copy()\n",
    "    for key, value in converted_report.items():\n",
    "        if \"unit\" in key:\n",
    "            if \"frequency\" in key:\n",
    "                for original_unit, converted_unit in unit_conversion[\n",
    "                    \"frequency\"\n",
    "                ].items():\n",
    "                    if converted_unit == value:\n",
    "                        original_report[key] = original_unit\n",
    "                        break\n",
    "            elif \"mem\" in key:\n",
    "                for original_unit, converted_unit in unit_conversion[\"mem\"].items():\n",
    "                    if converted_unit == value:\n",
    "                        original_report[key] = original_unit\n",
    "                        break\n",
    "            elif \"cpu\" in key:\n",
    "                if \"usage\" in key:\n",
    "                    for original_unit, converted_unit in unit_conversion[\"cpu\"][\n",
    "                        \"usage\"\n",
    "                    ].items():\n",
    "                        if converted_unit == value:\n",
    "                            original_report[key] = original_unit\n",
    "                            break\n",
    "            elif \"gpu\" in key:\n",
    "                if \"usage\" in key:\n",
    "                    for original_unit, converted_unit in unit_conversion[\"gpu\"][\n",
    "                        \"usage\"\n",
    "                    ].items():\n",
    "                        if converted_unit == value:\n",
    "                            original_report[key] = original_unit\n",
    "                            break\n",
    "    return original_report\n",
    "\n",
    "\n",
    "def extract_data(data):\n",
    "    unit_conversion = {\n",
    "        \"cpu\": {\"usage\": {\"milicpu\": 1, \"cputime\": 2, \"percentage\": 3}},\n",
    "        \"gpu\": {\"usage\": {\"percentage\": 1}},\n",
    "        \"mem\": {\"Gb\": 1, \"Mb\": 2, \"Kb\": 3},\n",
    "        \"frequency\": {\"GHz\": 1, \"MHz\": 2},\n",
    "    }\n",
    "    converted_process_data = {}\n",
    "    converted_system_data = []\n",
    "    for datapoint in data:\n",
    "        if datapoint.tags[\"type\"] == \"process\":\n",
    "            converted_datapoint = {\n",
    "                **datapoint.tags,\n",
    "                **datapoint.fields,\n",
    "                \"timestamp\": datetime.timestamp(datapoint.time),\n",
    "            }\n",
    "            converted_datapoint = unflatten(\n",
    "                revert_unit(unit_conversion, converted_datapoint), \"dot\"\n",
    "            )\n",
    "            pid = converted_datapoint[\"metadata\"][\"pid\"]\n",
    "            if pid in converted_process_data:\n",
    "                converted_process_data[pid].append(converted_datapoint)\n",
    "            else:\n",
    "                converted_process_data[pid] = [converted_datapoint]\n",
    "        else:\n",
    "            converted_datapoint = {\n",
    "                **datapoint.tags,\n",
    "                **datapoint.fields,\n",
    "                \"timestamp\": datetime.timestamp(datapoint.time),\n",
    "            }\n",
    "            converted_datapoint = unflatten(\n",
    "                revert_unit(unit_conversion, converted_datapoint), \"dot\"\n",
    "            )\n",
    "            converted_system_data.append(converted_datapoint)\n",
    "\n",
    "    return converted_process_data, converted_system_data\n",
    "\n",
    "\n",
    "def extract_data_from_file_path(file_path: str):\n",
    "    db = TinyFlux(file_path)\n",
    "    data = db.all()\n",
    "    return extract_data(data)"
   ]
  },
  {
   "cell_type": "code",
   "execution_count": 22,
   "metadata": {},
   "outputs": [],
   "source": [
    "file_path = \"runs_32/run_1-task_pc-cpu_fifo/metric_database/nid005024.csv\"\n",
    "try:\n",
    "    process_data, system_data = extract_data_from_file_path(file_path)\n",
    "    time_taken += len(system_data)\n",
    "    for entity in system_data:\n",
    "        cpu_usage = entity[\"cpu\"][\"usage\"][\"value\"]\n",
    "        filtered_usage = [\n",
    "            usage for core, usage in cpu_usage.items() if int(core.split(\"_\")[1]) < 64\n",
    "        ]\n",
    "\n",
    "        total_usage += sum(filtered_usage)\n",
    "        total_cores += len(filtered_usage)\n",
    "except Exception as e:\n",
    "    print(e)\n",
    "    print(entity)"
   ]
  },
  {
   "cell_type": "code",
   "execution_count": 16,
   "metadata": {},
   "outputs": [
    {
     "data": {
      "text/plain": [
       "718"
      ]
     },
     "execution_count": 16,
     "metadata": {},
     "output_type": "execute_result"
    }
   ],
   "source": [
    "len(system_data)"
   ]
  },
  {
   "cell_type": "code",
   "execution_count": 42,
   "metadata": {},
   "outputs": [
    {
     "data": {
      "text/plain": [
       "['run', '1-task', 'pc-cpu', 'round-robin']"
      ]
     },
     "execution_count": 42,
     "metadata": {},
     "output_type": "execute_result"
    }
   ],
   "source": [
    "test = \"run_1-task_pc-cpu_round-robin\"\n",
    "test.split(\"_\")"
   ]
  },
  {
   "cell_type": "code",
   "execution_count": 59,
   "metadata": {},
   "outputs": [
    {
     "name": "stderr",
     "output_type": "stream",
     "text": [
      "100%|████████████████████████████████████████████████████████████████████| 15/15 [00:35<00:00,  2.37s/it]"
     ]
    },
    {
     "name": "stdout",
     "output_type": "stream",
     "text": [
      "   Numb node               Optasks    Algorithm  Average CPU Usage (%)  \\\n",
      "0          4                                                 17.785998   \n",
      "1          4  reduce-data-movement     priority              18.695302   \n",
      "2          4  reduce-data-movement         fifo              18.051298   \n",
      "3          4  reduce-data-movement     best-fit              18.372785   \n",
      "4          4                reduce  round-robin              18.448070   \n",
      "5          4                reduce     priority              17.426560   \n",
      "6          4                reduce         fifo              17.893591   \n",
      "7          4                reduce     best-fit              17.996417   \n",
      "8          4                pc-cpu  round-robin              30.091290   \n",
      "9          4                pc-cpu     priority              30.500693   \n",
      "10         4                pc-cpu         fifo              29.817168   \n",
      "11         4                pc-cpu     best-fit              30.398761   \n",
      "12         4         data-movement  round-robin              18.085309   \n",
      "13         4         data-movement     priority              17.967189   \n",
      "14         4         data-movement         fifo              18.304236   \n",
      "\n",
      "    Time taken (s)  \n",
      "0           666.75  \n",
      "1           709.00  \n",
      "2           769.75  \n",
      "3           707.50  \n",
      "4           671.25  \n",
      "5           671.00  \n",
      "6           667.00  \n",
      "7           671.00  \n",
      "8           683.00  \n",
      "9           671.00  \n",
      "10          673.00  \n",
      "11          675.25  \n",
      "12          708.75  \n",
      "13          699.25  \n",
      "14          694.25  \n"
     ]
    },
    {
     "name": "stderr",
     "output_type": "stream",
     "text": [
      "\n"
     ]
    }
   ],
   "source": [
    "node_config_list = [\"4\"]\n",
    "algorithm = [\"best_fit\", \"round_robin\", \"priority\", \"fifo\"]\n",
    "\n",
    "# Create an empty list to store results\n",
    "results = []\n",
    "\n",
    "for numb_node in node_config_list:\n",
    "    for folder in tqdm(sorted(os.listdir(f\"runs_{numb_node}\"), reverse=1)):\n",
    "        sub_folder = os.path.join(f\"runs_{numb_node}\", folder, \"metric_database\")\n",
    "        if not os.path.exists(sub_folder):\n",
    "            continue\n",
    "        total_usage = 0\n",
    "        total_cores = 0\n",
    "        time_taken = 0\n",
    "        folder_split = folder.split(\"_\")\n",
    "        for file in os.listdir(sub_folder):\n",
    "            if file.endswith(\".csv\"):\n",
    "                file_path = os.path.join(sub_folder, file)\n",
    "                process_data, system_data = extract_data_from_file_path(file_path)\n",
    "                time_taken += len(system_data)\n",
    "                for entity in system_data:\n",
    "                    cpu_usage = entity[\"cpu\"][\"usage\"][\"value\"]\n",
    "                    filtered_usage = [\n",
    "                        usage\n",
    "                        for core, usage in cpu_usage.items()\n",
    "                        if int(core.split(\"_\")[1]) < 64\n",
    "                    ]\n",
    "\n",
    "                    total_usage += sum(filtered_usage)\n",
    "                    total_cores += len(filtered_usage)\n",
    "\n",
    "        overall_average_usage = total_usage / total_cores if total_cores > 0 else 0\n",
    "\n",
    "        results.append(\n",
    "            [\n",
    "                numb_node,\n",
    "                folder_split[2],\n",
    "                folder_split[3],\n",
    "                overall_average_usage,\n",
    "                time_taken / int(numb_node),\n",
    "            ]\n",
    "        )\n",
    "\n",
    "df = pd.DataFrame(\n",
    "    results,\n",
    "    columns=[\n",
    "        \"Numb node\",\n",
    "        \"Optasks\",\n",
    "        \"Algorithm\",\n",
    "        \"Average CPU Usage (%)\",\n",
    "        \"Time taken (s)\",\n",
    "    ],\n",
    ")\n",
    "\n",
    "print(df)"
   ]
  },
  {
   "cell_type": "code",
   "execution_count": 23,
   "metadata": {},
   "outputs": [
    {
     "name": "stderr",
     "output_type": "stream",
     "text": [
      "100%|████████████████████████████████████████████████████████████████████████████████████████████████████████████████████████████████████████████████████████████████████████████████| 8/8 [02:27<00:00, 18.40s/it]"
     ]
    },
    {
     "name": "stdout",
     "output_type": "stream",
     "text": [
      "  Numb node Optasks    Algorithm  Average CPU Usage (%)  Time taken (s)\n",
      "0        32  reduce  round-robin              17.519794       719.46875\n",
      "1        32  reduce     priority              17.211960       728.93750\n",
      "2        32  reduce         fifo              17.035072       722.96875\n",
      "3        32  reduce     best-fit              17.450913       707.03125\n",
      "4        32  pc-cpu  round-robin              29.991062       710.90625\n",
      "5        32  pc-cpu     priority              29.856786       711.06250\n",
      "6        32  pc-cpu         fifo              29.908088       701.00000\n",
      "7        32  pc-cpu     best-fit              29.904649       696.93750\n"
     ]
    },
    {
     "name": "stderr",
     "output_type": "stream",
     "text": [
      "\n"
     ]
    }
   ],
   "source": [
    "node_config_list = [\"32\"]\n",
    "# Create an empty list to store results\n",
    "results = []\n",
    "\n",
    "for numb_node in node_config_list:\n",
    "    for folder in tqdm(sorted(os.listdir(f\"runs_{numb_node}\"), reverse=1)):\n",
    "        sub_folder = os.path.join(f\"runs_{numb_node}\", folder, \"metric_database\")\n",
    "        if not os.path.exists(sub_folder):\n",
    "            continue\n",
    "        total_usage = 0\n",
    "        total_cores = 0\n",
    "        time_taken = 0\n",
    "        folder_split = folder.split(\"_\")\n",
    "        for file in os.listdir(sub_folder):\n",
    "            if file.endswith(\".csv\"):\n",
    "                file_path = os.path.join(sub_folder, file)\n",
    "                try:\n",
    "                    process_data, system_data = extract_data_from_file_path(file_path)\n",
    "                    time_taken += len(system_data)\n",
    "                    for entity in system_data:\n",
    "                        cpu_usage = entity[\"cpu\"][\"usage\"][\"value\"]\n",
    "                        filtered_usage = [\n",
    "                            usage\n",
    "                            for core, usage in cpu_usage.items()\n",
    "                            if int(core.split(\"_\")[1]) < 64\n",
    "                        ]\n",
    "\n",
    "                        total_usage += sum(filtered_usage)\n",
    "                        total_cores += len(filtered_usage)\n",
    "                except Exception as e:\n",
    "                    print(e)\n",
    "                    print(entity)\n",
    "                    print(file_path)\n",
    "\n",
    "        overall_average_usage = total_usage / total_cores if total_cores > 0 else 0\n",
    "        results.append(\n",
    "            [\n",
    "                numb_node,\n",
    "                folder_split[2],\n",
    "                folder_split[3],\n",
    "                overall_average_usage,\n",
    "                time_taken / int(numb_node),\n",
    "            ]\n",
    "        )\n",
    "\n",
    "df = pd.DataFrame(\n",
    "    results,\n",
    "    columns=[\n",
    "        \"Numb node\",\n",
    "        \"Optasks\",\n",
    "        \"Algorithm\",\n",
    "        \"Average CPU Usage (%)\",\n",
    "        \"Time taken (s)\",\n",
    "    ],\n",
    ")\n",
    "\n",
    "print(df)"
   ]
  },
  {
   "cell_type": "code",
   "execution_count": 45,
   "metadata": {},
   "outputs": [
    {
     "name": "stdout",
     "output_type": "stream",
     "text": [
      "\\begin{tabular}{lllr}\n",
      "\\toprule\n",
      "Numb node & Optasks & Algorithm & Average CPU Usage (%) \\\\\n",
      "\\midrule\n",
      "4 &  &  & 17.79 \\\\\n",
      "4 & reduce & round-robin & 18.45 \\\\\n",
      "4 & reduce & priority & 17.43 \\\\\n",
      "4 & reduce & fifo & 17.89 \\\\\n",
      "4 & reduce & best-fit & 18.00 \\\\\n",
      "4 & pc-cpu & round-robin & 30.09 \\\\\n",
      "4 & pc-cpu & priority & 30.50 \\\\\n",
      "4 & pc-cpu & fifo & 29.82 \\\\\n",
      "4 & pc-cpu & best-fit & 30.40 \\\\\n",
      "\\bottomrule\n",
      "\\end{tabular}\n",
      "\n"
     ]
    }
   ],
   "source": [
    "latex_table = df.to_latex(index=False, float_format=\"%.2f\")\n",
    "with open(\"cpu_usage_table.tex\", \"w\") as f:\n",
    "    f.write(latex_table)\n",
    "\n",
    "# Print LaTeX table\n",
    "print(latex_table)"
   ]
  }
 ],
 "metadata": {
  "kernelspec": {
   "display_name": "Python 3 (ipykernel)",
   "language": "python",
   "name": "python3"
  },
  "language_info": {
   "codemirror_mode": {
    "name": "ipython",
    "version": 3
   },
   "file_extension": ".py",
   "mimetype": "text/x-python",
   "name": "python",
   "nbconvert_exporter": "python",
   "pygments_lexer": "ipython3",
   "version": "3.10.14"
  }
 },
 "nbformat": 4,
 "nbformat_minor": 4
}
